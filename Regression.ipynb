{
 "cells": [
  {
   "cell_type": "code",
   "execution_count": 360,
   "metadata": {},
   "outputs": [],
   "source": [
    "import pandas as pd"
   ]
  },
  {
   "cell_type": "markdown",
   "metadata": {},
   "source": [
    "pip install quandl"
   ]
  },
  {
   "cell_type": "code",
   "execution_count": 361,
   "metadata": {},
   "outputs": [],
   "source": [
    "import quandl, datetime\n",
    "import math\n",
    "import numpy as np\n",
    "from sklearn import preprocessing, svm\n",
    "from sklearn.model_selection import train_test_split\n",
    "from sklearn.linear_model import LinearRegression \n",
    "import matplotlib.pyplot as plt\n",
    "from matplotlib import style\n",
    "style.use(\"ggplot\")\n",
    "import pickle"
   ]
  },
  {
   "cell_type": "code",
   "execution_count": 362,
   "metadata": {
    "scrolled": true
   },
   "outputs": [
    {
     "name": "stdout",
     "output_type": "stream",
     "text": [
      "              Open    High     Low    Close      Volume  Ex-Dividend  \\\n",
      "Date                                                                   \n",
      "2004-08-19  100.01  104.06   95.96  100.335  44659000.0          0.0   \n",
      "2004-08-20  101.01  109.08  100.50  108.310  22834300.0          0.0   \n",
      "2004-08-23  110.76  113.48  109.05  109.400  18256100.0          0.0   \n",
      "2004-08-24  111.24  111.60  103.57  104.870  15247300.0          0.0   \n",
      "2004-08-25  104.76  108.00  103.88  106.000   9188600.0          0.0   \n",
      "\n",
      "            Split Ratio  Adj. Open  Adj. High   Adj. Low  Adj. Close  \\\n",
      "Date                                                                   \n",
      "2004-08-19          1.0  50.159839  52.191109  48.128568   50.322842   \n",
      "2004-08-20          1.0  50.661387  54.708881  50.405597   54.322689   \n",
      "2004-08-23          1.0  55.551482  56.915693  54.693835   54.869377   \n",
      "2004-08-24          1.0  55.792225  55.972783  51.945350   52.597363   \n",
      "2004-08-25          1.0  52.542193  54.167209  52.100830   53.164113   \n",
      "\n",
      "            Adj. Volume  \n",
      "Date                     \n",
      "2004-08-19   44659000.0  \n",
      "2004-08-20   22834300.0  \n",
      "2004-08-23   18256100.0  \n",
      "2004-08-24   15247300.0  \n",
      "2004-08-25    9188600.0  \n"
     ]
    }
   ],
   "source": [
    "df = quandl.get(\"WIKI/GOOGL\")\n",
    "print(df.head())\n"
   ]
  },
  {
   "cell_type": "code",
   "execution_count": 363,
   "metadata": {},
   "outputs": [
    {
     "name": "stdout",
     "output_type": "stream",
     "text": [
      "            Adj. Close    HL_PCT  PCT_change  Adj. Volume\n",
      "Date                                                     \n",
      "2004-08-19   50.322842  3.712563    0.324968   44659000.0\n",
      "2004-08-20   54.322689  0.710922    7.227007   22834300.0\n",
      "2004-08-23   54.869377  3.729433   -1.227880   18256100.0\n",
      "2004-08-24   52.597363  6.417469   -5.726357   15247300.0\n",
      "2004-08-25   53.164113  1.886792    1.183658    9188600.0\n"
     ]
    }
   ],
   "source": [
    "#defining the features you will need in the dataframe\n",
    "df = df[['Adj. Open','Adj. High','Adj. Low','Adj. Close','Adj. Volume']]\n",
    "df['HL_PCT'] = (df['Adj. High'] - df['Adj. Close']) / df['Adj. Close'] * 100.0\n",
    "df['PCT_change'] = (df['Adj. Close'] - df['Adj. Open']) / df['Adj. Open'] * 100.0\n",
    "df = df[['Adj. Close','HL_PCT','PCT_change','Adj. Volume']]\n",
    "print(df.head())\n"
   ]
  },
  {
   "cell_type": "code",
   "execution_count": 364,
   "metadata": {},
   "outputs": [
    {
     "name": "stdout",
     "output_type": "stream",
     "text": [
      "3424\n"
     ]
    }
   ],
   "source": [
    "forecast_col = 'Adj. Close'\n",
    "#replace all NaN elements with -99999 if true\n",
    "df.fillna(-99999, inplace=True)\n",
    "\n",
    "#print the length of the data frame\n",
    "print(len(df))"
   ]
  },
  {
   "cell_type": "code",
   "execution_count": 365,
   "metadata": {},
   "outputs": [
    {
     "name": "stdout",
     "output_type": "stream",
     "text": [
      "343\n"
     ]
    }
   ],
   "source": [
    "#ceil gives the smallest integar >= x\n",
    "forecast_out = int(math.ceil(0.1*len(df)))\n",
    "print(forecast_out)\n",
    "#take the last 35 column of forecast_col and shift upward \n",
    "df['label'] = df[forecast_col].shift(-forecast_out)\n"
   ]
  },
  {
   "cell_type": "code",
   "execution_count": 366,
   "metadata": {
    "scrolled": true
   },
   "outputs": [
    {
     "name": "stdout",
     "output_type": "stream",
     "text": [
      "            Adj. Close    HL_PCT  PCT_change  Adj. Volume       label\n",
      "Date                                                                 \n",
      "2004-08-19   50.322842  3.712563    0.324968   44659000.0  214.005615\n",
      "2004-08-20   54.322689  0.710922    7.227007   22834300.0  210.725489\n",
      "2004-08-23   54.869377  3.729433   -1.227880   18256100.0  208.072299\n",
      "2004-08-24   52.597363  6.417469   -5.726357   15247300.0  218.288837\n",
      "2004-08-25   53.164113  1.886792    1.183658    9188600.0  223.309335\n",
      "            Adj. Close    HL_PCT  PCT_change  Adj. Volume  label\n",
      "Date                                                            \n",
      "2018-03-21     1094.00  1.343693    0.130884    1990515.0    NaN\n",
      "2018-03-22     1053.15  2.921711   -2.487014    3418154.0    NaN\n",
      "2018-03-23     1026.55  3.918952   -2.360729    2413517.0    NaN\n",
      "2018-03-26     1054.09  0.491419    0.332191    3272409.0    NaN\n",
      "2018-03-27     1006.94  5.720301   -5.353887    2940957.0    NaN\n"
     ]
    }
   ],
   "source": [
    "print(df.head())\n",
    "print(df.tail())\n",
    "\n"
   ]
  },
  {
   "cell_type": "code",
   "execution_count": 367,
   "metadata": {},
   "outputs": [
    {
     "name": "stdout",
     "output_type": "stream",
     "text": [
      "0.7426362769885246\n"
     ]
    }
   ],
   "source": [
    "#drop label(Whether to drop labels from the index (0 or ‘index’) or columns (1 or ‘columns’)\n",
    "# and covert the df to an array\n",
    "X = np.array(df.drop(['label'],1))\n",
    "#scaling the data, i.e to standardize or normalize\n",
    "X = preprocessing.scale(X)\n",
    "#from -34th value to the end\n",
    "x_lately = X[-forecast_out:]\n",
    "\n",
    "#from the zero index to the index before the -34th value\n",
    "X = X[:-forecast_out]\n",
    "#remove missing value\n",
    "df.dropna(inplace=True)\n",
    "y = np.array(df['label'])\n",
    "\n",
    "# training(fit) and testing(score) your data, n_jobs =number of jobs at a time, default for reg =1\n",
    "X_train, X_test, y_train, y_test = train_test_split(X, y, test_size=0.33)\n",
    "#clf = LinearRegression(n_jobs=-1)\n",
    "#clf.fit(X_train, y_train)\n",
    "#clf = svm.SVR(kernel= 'poly')\n",
    "\n",
    "#with open('linearregression.pickle','wb') as f:\n",
    "    #pickle.dump(clf, f) #save\n",
    "\n",
    "pickle_in = open('linearregression.pickle','rb')\n",
    "clf = pickle.load(pickle_in)\n",
    "accuracy = clf.score(X_test,y_test)\n",
    "print(accuracy)\n",
    "\n"
   ]
  },
  {
   "cell_type": "markdown",
   "metadata": {},
   "source": [
    "\n"
   ]
  },
  {
   "cell_type": "code",
   "execution_count": 368,
   "metadata": {},
   "outputs": [
    {
     "name": "stdout",
     "output_type": "stream",
     "text": [
      "[564.39829378 555.01772059 558.8162064  569.58101627 584.69066918\n",
      " 595.50248838 597.44714228 613.15372505 708.12487042 705.52653355\n",
      " 706.30358835 704.72045502 685.35451959 665.08351119 670.01390507\n",
      " 674.20639569 676.550734   678.2377035  671.7000724  679.01489542\n",
      " 675.42252473 686.13463514 684.80242249 679.25430523 676.7243238\n",
      " 701.80515057 705.85352862 700.3812546  703.83998792 709.22406891\n",
      " 702.88038239 707.35636793 691.02531719 652.8200406  621.14821619\n",
      " 620.1626928  671.54896246 681.86370082 673.68433196 659.26096198\n",
      " 640.56851301 659.59164236 649.475377   642.67372777 658.6332086\n",
      " 655.57357352 664.76155766 670.28120406 667.47349184 678.59306715\n",
      " 680.57376625 683.59824314 673.67118851 681.78598481 667.23244624\n",
      " 666.82733411 669.16037818 651.92376128 635.39421159 634.44845754\n",
      " 651.09074421 656.32578823 669.64442871 685.72046255 684.79922489\n",
      " 683.77338198 681.41147329 685.69410869 690.99032106 696.21393103\n",
      " 693.78903183 707.37141386 710.84224677 715.10817101 692.1756344\n",
      " 684.98729209 693.21587625 727.6546154  744.61064957 747.22009628\n",
      " 752.30192361 759.48588184 751.7741691  762.55298137 763.74952791\n",
      " 769.52341439 774.93929336 777.16115074 769.01392655 773.36740069\n",
      " 779.99088742 770.58642095 753.22695889 764.7906798  760.26261805\n",
      " 774.74239634 775.31943616 791.46167043 791.41709739 784.26830138\n",
      " 784.92542493 787.72997993 776.77686992 797.92007973 790.72826735\n",
      " 781.29315059 793.38350514 787.81037604 789.43728169 775.83593825\n",
      " 775.008261   764.35203468 776.735692   772.92823082 790.19884495\n",
      " 784.09251433 768.90265995 775.72028536 782.14694542 784.10595904\n",
      " 781.85226234 797.16424092 808.3280229  805.51782907 792.61986832\n",
      " 774.52240466 775.74779616 772.61627391 753.27444231 743.23472022\n",
      " 748.10032001 759.89337539 729.12185618 743.952938   721.74807919\n",
      " 733.13836591 729.90140567 738.62878902 760.10062954 745.4300379\n",
      " 748.48222155 730.26033077 762.04258275 774.46511725 783.83402992\n",
      " 789.7505586  756.2709601  742.12180499 714.12257367 717.02709828\n",
      " 709.42861903 718.21519754 718.87655445 720.57211827 732.0618814\n",
      " 746.67340185 729.85859344 736.84280851 743.45175416 730.28616563\n",
      " 735.57126202 744.29194111 738.52195638 729.67426586 755.44480122\n",
      " 754.85743569 745.76164648 745.13459412 725.53061194 726.16128823\n",
      " 739.93293077 746.32915246 760.3815657  764.74717878 765.62450478\n",
      " 772.28426124 772.55034104 769.99424871 777.25151533 774.96302198\n",
      " 772.41434657 769.92153846 768.59830931 780.35614459 782.09212277\n",
      " 778.03464073 784.52248967 779.97604222 773.71714579 783.27201098\n",
      " 774.5527354  774.46602145 771.99572024 779.84488309 786.94187344\n",
      " 790.66209011 795.59629063 803.00365072 789.96042569 790.34779532\n",
      " 794.73773688 748.15083044 756.53977643 737.43167462 735.66682004\n",
      " 715.59618635 721.71434976 729.78017739 723.30519577 725.7360233\n",
      " 729.94912668 739.3967623  743.38471976 754.80703011 744.90191324\n",
      " 742.61923784 739.39072568 745.21822733 733.0153765  736.36456191\n",
      " 730.18109785 735.43815902 731.92253248 747.22403881 753.35356248\n",
      " 751.86616175 762.5164881  763.54874886 764.02058155 759.71953613\n",
      " 751.13460737 744.73427686 745.98012433 758.41966375 757.89664892\n",
      " 747.84499576 745.94050658 748.23300553 747.34286303 738.73138266\n",
      " 716.2691107  719.5234017  723.15213973 725.80294138 730.14726711\n",
      " 694.69642024 695.94960469 706.56286687 709.50764594 718.50791156\n",
      " 724.99380087 719.96424872 722.81351265 722.87133642 732.95774904\n",
      " 741.9607801  747.75425482 744.72404698 751.76127773 750.80224337\n",
      " 767.10183809 768.3838913  772.17937954 770.08707997 775.4116578\n",
      " 773.2955779  773.53389636 777.2046178  780.77473679 803.86739138\n",
      " 813.77497082 815.53824254 814.95167378 813.17597707 822.53277666\n",
      " 821.26909361 822.17858907 824.44297789 823.57177092 823.50012817\n",
      " 821.41806159 817.24365164 821.44515764 818.37876679 815.82796462\n",
      " 813.16020993 812.49134129 809.17488034 806.99897946 808.089145\n",
      " 811.54386901 807.00061774 805.91886865 807.53009889 813.1110008\n",
      " 822.65813713 823.93480669 818.25051665 802.38227086 813.34576534\n",
      " 803.71677663 805.14552868 815.93030793 813.98327964 810.33859308\n",
      " 815.65084985 820.94545934 831.02868179 831.00732852 817.95441821\n",
      " 825.71629238 825.91248003 816.80299187 819.4050538  816.23346794\n",
      " 818.61192718 816.431374   818.80805736 816.47056623 828.8928751\n",
      " 823.88914345 827.81992617 820.14839935 820.11333149 821.75031599\n",
      " 835.27342391 842.75222702 837.11302323 840.11351683 851.3080531\n",
      " 843.52297365 837.64558836 831.61840278 831.32024167 824.18025642\n",
      " 820.04994713 801.65002414 796.52856371 794.39940896 816.85198081\n",
      " 826.40834584 819.58146374 790.31336724] 0.7426362769885246 343\n"
     ]
    }
   ],
   "source": [
    "forecast_set = clf.predict(x_lately)\n",
    "print(forecast_set, accuracy, forecast_out)\n"
   ]
  },
  {
   "cell_type": "code",
   "execution_count": 369,
   "metadata": {},
   "outputs": [],
   "source": [
    "df['Forecast'] = np.nan #entire column is full of notanumberdata\n",
    "last_date = df.iloc[-1].name\n",
    "last_unix = last_date.timestamp() #returns time\n",
    "one_day = 86400\n",
    "next_unix = last_unix + one_day"
   ]
  },
  {
   "cell_type": "code",
   "execution_count": 370,
   "metadata": {},
   "outputs": [],
   "source": [
    "for i in forecast_set:\n",
    "    next_date = datetime.datetime.fromtimestamp(next_unix)\n",
    "    next_unix += one_day\n",
    "    df.loc[next_date] = [np.nan for _ in range(len(df.columns)-1)] + [i]"
   ]
  },
  {
   "cell_type": "code",
   "execution_count": 371,
   "metadata": {},
   "outputs": [
    {
     "data": {
      "image/png": "[encoded data removed]",
      "text/plain": [
       "<Figure size 432x288 with 1 Axes>"
      ]
     },
     "metadata": {},
     "output_type": "display_data"
    }
   ],
   "source": [
    "df['Adj. Close'].plot()\n",
    "df['Forecast'].plot()\n",
    "plt.legend(loc = 4)\n",
    "plt.xlabel('Date')\n",
    "plt.ylabel('price')\n",
    "plt.show()"
   ]
  },
  {
   "cell_type": "code",
   "execution_count": null,
   "metadata": {},
   "outputs": [],
   "source": []
  },
  {
   "cell_type": "code",
   "execution_count": null,
   "metadata": {},
   "outputs": [],
   "source": []
  }
 ],
 "metadata": {
  "kernelspec": {
   "display_name": "Python 3",
   "language": "python",
   "name": "python3"
  },
  "language_info": {
   "codemirror_mode": {
    "name": "ipython",
    "version": 3
   },
   "file_extension": ".py",
   "mimetype": "text/x-python",
   "name": "python",
   "nbconvert_exporter": "python",
   "pygments_lexer": "ipython3",
   "version": "3.7.6"
  }
 },
 "nbformat": 4,
 "nbformat_minor": 4
}
